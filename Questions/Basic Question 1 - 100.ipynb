{
 "cells": [
  {
   "cell_type": "markdown",
   "metadata": {},
   "source": [
    "# Basic Questions"
   ]
  },
  {
   "cell_type": "markdown",
   "metadata": {},
   "source": [
    "#### 1. What is the difference between list and tuples in Python?\n",
    "\n",
    "| LIST                                      | TUPLES                                                         |\n",
    "| :---------------------------------------- | :------------------------------------------------------------- |\n",
    "| Lists are mutable i.e they can be edited. | Tuples are immutable (tuples are lists which can’t be edited). |\n",
    "| Lists are slower than tuples.             | Tuples are faster than list.                                   |\n",
    "| Syntax: list_1 = [10, ‘Chelsea’, 20]      | Syntax: tup_1 = (10, ‘Chelsea’ , 20)                           |\n",
    "\n"
   ]
  },
  {
   "cell_type": "markdown",
   "metadata": {},
   "source": [
    "#### 2. What are the key features of Python?\n",
    "\n",
    "- Python is an interpreted language. That means that, unlike languages like C and its variants, Python does not need to be compiled before it is run. Other interpreted languages include PHP and Ruby.\n",
    "\n",
    "- Python is dynamically typed, this means that you don’t need to state the types of variables when you declare them or anything like that. You can do things like `x=111`and then `x=\"I'm a string\"` without error\n",
    "\n",
    "- Python is well suited to object orientated programming in that it allows the definition of classes along with composition and inheritance. Python does not have access specifiers (like C++’s `public`, `private`).\n",
    "\n",
    "- In Python, functions are first-class objects. This means that they can be assigned to variables, returned from other functions and passed into functions. Classes are also first class objects\n",
    "\n",
    "- Writing Python code is quick but running it is often slower than compiled languages. Fortunately，Python allows the inclusion of C based extensions so bottlenecks can be optimized away and often are. The numpy package is a good example of this, it’s really quite quick because a lot of the number crunching it does isn’t actually done by Python\n",
    "\n",
    "- Python finds use in many spheres – web applications, automation, scientific modeling, big data applications and many more. It’s also often used as “glue” code to get other languages and components to play nice."
   ]
  },
  {
   "cell_type": "markdown",
   "metadata": {},
   "source": [
    "#### 3. What type of language is python? Programming or scripting?\n",
    "\n",
    "Python is capable of scripting, but in general sense, it is considered as a general-purpose programming language.\n",
    "To know more about Scripting, you can refer to the Python Scripting Tutorial."
   ]
  },
  {
   "cell_type": "markdown",
   "metadata": {},
   "source": [
    "#### 4. How is Python an interpreted language?\n",
    "\n",
    "An interpreted language is any programming language which is not in machine level code before runtime. Therefore, Python is an interpreted language."
   ]
  },
  {
   "cell_type": "markdown",
   "metadata": {},
   "source": [
    "#### 5. What is pep 8?\n",
    "\n",
    "PEP stands for Python Enhancement Proposal. It is a set of rules that specify how to format Python code for maximum readability."
   ]
  },
  {
   "cell_type": "markdown",
   "metadata": {},
   "source": [
    "#### 6. How is memory managed in Python?\n",
    "\n",
    "\n",
    "1. Memory management in python is managed by *Python private heap space*. All Python objects and data structures are located in a private heap. The programmer does not have access to this private heap. The python interpreter takes care of this instead.\n",
    "2. The allocation of heap space for Python objects is done by Python’s memory manager. The core API gives access to some tools for the programmer to code.\n",
    "3. Python also has an inbuilt garbage collector, which recycles all the unused memory and so that it can be made available to the heap space."
   ]
  },
  {
   "cell_type": "markdown",
   "metadata": {},
   "source": [
    "#### 7. What is namespace in Python?\n",
    "\n",
    "A namespace is a naming system used to make sure that names are unique to avoid naming conflicts."
   ]
  },
  {
   "cell_type": "markdown",
   "metadata": {},
   "source": [
    "#### 8. What is PYTHONPATH?\n",
    "\n",
    "It is an environment variable which is used when a module is imported. Whenever a module is imported, PYTHONPATH is also looked up to check for the presence of the imported modules in various directories. The interpreter uses it to determine which module to load."
   ]
  },
  {
   "cell_type": "markdown",
   "metadata": {},
   "source": [
    "#### 9. What are python modules? Name some commonly used built-in modules in Python?\n",
    "\n",
    "Python modules are files containing Python code. This code can either be functions classes or variables. A Python module is a .py file containing executable code.\n",
    "Some of the commonly used built-in modules are:\n",
    "\n",
    "- os\n",
    "- sys\n",
    "- math\n",
    "- random\n",
    "- data time\n",
    "- JSON"
   ]
  },
  {
   "cell_type": "markdown",
   "metadata": {},
   "source": [
    "#### 10. What are local variables and global variables in Python?\n",
    "\n",
    "#### Global Variables:\n",
    "Variables declared outside a function or in global space are called global variables. These variables can be accessed by any function in the program.\n",
    "\n",
    "#### Local Variables:\n",
    "Any variable declared inside a function is known as a local variable. This variable is present in the local space and not in the global space."
   ]
  },
  {
   "cell_type": "code",
   "execution_count": 4,
   "metadata": {},
   "outputs": [
    {
     "ename": "NameError",
     "evalue": "name 'c' is not defined",
     "output_type": "error",
     "traceback": [
      "\u001b[0;31m---------------------------------------------------------------------------\u001b[0m",
      "\u001b[0;31mNameError\u001b[0m                                 Traceback (most recent call last)",
      "\u001b[0;32m<ipython-input-4-e448d25b21cd>\u001b[0m in \u001b[0;36m<module>\u001b[0;34m\u001b[0m\n\u001b[1;32m      4\u001b[0m     \u001b[0mc\u001b[0m \u001b[0;34m=\u001b[0m \u001b[0ma\u001b[0m \u001b[0;34m+\u001b[0m \u001b[0mb\u001b[0m\u001b[0;34m\u001b[0m\u001b[0;34m\u001b[0m\u001b[0m\n\u001b[1;32m      5\u001b[0m \u001b[0;34m\u001b[0m\u001b[0m\n\u001b[0;32m----> 6\u001b[0;31m \u001b[0mprint\u001b[0m\u001b[0;34m(\u001b[0m\u001b[0mc\u001b[0m\u001b[0;34m)\u001b[0m\u001b[0;34m\u001b[0m\u001b[0;34m\u001b[0m\u001b[0m\n\u001b[0m\u001b[1;32m      7\u001b[0m \u001b[0madd\u001b[0m\u001b[0;34m(\u001b[0m\u001b[0;34m)\u001b[0m\u001b[0;34m\u001b[0m\u001b[0;34m\u001b[0m\u001b[0m\n",
      "\u001b[0;31mNameError\u001b[0m: name 'c' is not defined"
     ]
    }
   ],
   "source": [
    "a = 2\n",
    "def add():\n",
    "    b = 3\n",
    "    c = a + b\n",
    "\n",
    "print(c)\n",
    "add()"
   ]
  },
  {
   "cell_type": "markdown",
   "metadata": {},
   "source": [
    "When you try to access the local variable outside the function add(), it will throw an error."
   ]
  },
  {
   "cell_type": "markdown",
   "metadata": {},
   "source": [
    "#### 11. Is python case sensitive?\n",
    "\n",
    "Yes. Python is a case sensitive language."
   ]
  },
  {
   "cell_type": "markdown",
   "metadata": {},
   "source": [
    "#### 12.What is type conversion in Python?\n",
    "\n",
    "Type conversion refers to the conversion of one data type iinto another.\n",
    "\n",
    "**int()** – converts any data type into integer type\n",
    "\n",
    "**float()** – converts any data type into float type\n",
    "\n",
    "**ord()** – converts characters into integer\n",
    "\n",
    "**hex()** – converts integers to hexadecimal\n",
    "\n",
    "**oct()** – converts integer to octal\n",
    "\n",
    "**tuple()** – This function is used to convert to a tuple.\n",
    "\n",
    "**set()** – This function returns the type after converting to set.\n",
    "\n",
    "**list()** – This function is used to convert any data type to a list type.\n",
    "\n",
    "**dict()** – This function is used to convert a tuple of order (key,value) into a dictionary.\n",
    "\n",
    "**str()** – Used to convert integer into a string.\n",
    "\n",
    "**complex(real,imag)** – This functionconverts real numbers to complex(real,imag) number."
   ]
  },
  {
   "cell_type": "markdown",
   "metadata": {},
   "source": [
    "#### 13. How to install Python on Windows and set path variable?\n",
    "\n",
    "To install Python on Windows, follow the below steps:\n",
    "\n",
    "- Install python from this link: https://www.python.org/downloads/\n",
    "- After this, install it on your PC. Look for the location where `PYTHON` has been installed on your PC using the following command on your command prompt: cmd `python`.\n",
    "- Then go to advanced system settings and add a new variable and name it as `PYTHON_NAME` and paste the copied path.\n",
    "- Look for the path variable, select its value and select ‘edit’.\n",
    "- Add a semicolon towards the end of the value if it’s not present and then type `%PYTHON_HOME%`"
   ]
  },
  {
   "cell_type": "markdown",
   "metadata": {},
   "source": [
    "#### 14. Is indentation required in python?\n",
    "\n",
    "Indentation is necessary for Python. It specifies a block of code. All code within loops, classes, functions, etc is specified within an indented block. It is usually done using four space characters. If your code is not indented necessarily, it will not execute accurately and will throw errors as well."
   ]
  },
  {
   "cell_type": "markdown",
   "metadata": {},
   "source": [
    "#### 15. What is the difference between Python Arrays and lists?\n",
    "\n",
    "Arrays and lists, in Python, have the same way of storing data. But, arrays can hold only a single data type elements whereas lists can hold any data type elements."
   ]
  },
  {
   "cell_type": "code",
   "execution_count": 5,
   "metadata": {},
   "outputs": [
    {
     "name": "stdout",
     "output_type": "stream",
     "text": [
      "array('i', [1, 2, 3, 4])\n",
      "[1, 'abc', 1.2]\n"
     ]
    }
   ],
   "source": [
    "import array as arr\n",
    "\n",
    "My_Array=arr.array('i',[1,2,3,4])\n",
    "\n",
    "My_list=[1,'abc',1.20]\n",
    "\n",
    "print(My_Array)\n",
    "\n",
    "print(My_list)"
   ]
  },
  {
   "cell_type": "markdown",
   "metadata": {},
   "source": [
    "#### 16. What are functions in Python?\n",
    "\n",
    "A function is a block of code which is executed only when it is called. To define a Python function, the def keyword is used."
   ]
  },
  {
   "cell_type": "code",
   "execution_count": 6,
   "metadata": {},
   "outputs": [
    {
     "name": "stdout",
     "output_type": "stream",
     "text": [
      "Hi, Welcome to Edureka\n"
     ]
    }
   ],
   "source": [
    "def Newfunc():\n",
    "    print(\"Hi, Welcome to Edureka\")\n",
    "\n",
    "# calling the function\n",
    "Newfunc();"
   ]
  },
  {
   "cell_type": "markdown",
   "metadata": {},
   "source": [
    "#### 17. What is init?\n",
    "\n",
    "**`__init__`** is a method or constructor in Python. This method is automatically called to allocate memory when a new object/ instance of a class is created. All classes have the `__init__` method."
   ]
  },
  {
   "cell_type": "code",
   "execution_count": 7,
   "metadata": {},
   "outputs": [
    {
     "name": "stdout",
     "output_type": "stream",
     "text": [
      "XYZ\n",
      "23\n",
      "20000\n"
     ]
    }
   ],
   "source": [
    "class Employee:\n",
    "    def __init__(self, name, age,salary):\n",
    "        self.name = name\n",
    "        self.age = age\n",
    "        self.salary = 20000\n",
    "\n",
    "E1 = Employee(\"XYZ\", 23, 20000)\n",
    "# E1 is the instance of class Employee.\n",
    "# __init__ allocates memory for E1. \n",
    "print(E1.name)\n",
    "print(E1.age)\n",
    "print(E1.salary)"
   ]
  },
  {
   "cell_type": "markdown",
   "metadata": {},
   "source": [
    "#### 18. What is a lambda function?\n",
    "\n",
    "An anonymous function is known as a lambda function. This function can have any number of parameters but, can have just one statement."
   ]
  },
  {
   "cell_type": "code",
   "execution_count": 11,
   "metadata": {},
   "outputs": [
    {
     "name": "stdout",
     "output_type": "stream",
     "text": [
      "11\n"
     ]
    }
   ],
   "source": [
    "sum_xy = lambda x,y : x+y\n",
    "\n",
    "print(sum_xy(5, 6))"
   ]
  },
  {
   "cell_type": "markdown",
   "metadata": {},
   "source": [
    "#### 19. What is self in Python?\n",
    "\n",
    "Self is an instance or an object of a class. In Python, this is explicitly included as the first parameter. However, this is not the case in Java where it’s optional. It helps to differentiate between the methods and attributes of a class with local variables.\n",
    "The self variable in the init method refers to the newly created object while in other methods, it refers to the object whose method was called."
   ]
  },
  {
   "cell_type": "markdown",
   "metadata": {},
   "source": [
    "#### 20. How does break, continue and pass work?\n",
    "\n",
    "| Name     | Description |\n",
    "|:-------- |:------------------------------------------------------------------------------------------------------------------------------------------------------------------- |\n",
    "| Break    | Allows loop termination when some condition is met and the control is transferred to the next statement.                                                            |\n",
    "| Continue | Allows skipping some part of a loop when some specific condition is met and the control is transferred to the beginning of the loop                                 |\n",
    "| Pass     | Used when you need some block of code syntactically, but you want to skip its execution. This is basically a null operation. Nothing happens when this is executed. |"
   ]
  },
  {
   "cell_type": "markdown",
   "metadata": {},
   "source": [
    "#### 21. What does `[::-1]` do?\n",
    "\n",
    "`[::-1]` is used to reverse the order of an array or a sequence."
   ]
  },
  {
   "cell_type": "code",
   "execution_count": 12,
   "metadata": {},
   "outputs": [
    {
     "data": {
      "text/plain": [
       "[5, 4, 3, 2, 1]"
      ]
     },
     "execution_count": 12,
     "metadata": {},
     "output_type": "execute_result"
    }
   ],
   "source": [
    "My_Array = [1,2,3,4,5]\n",
    "\n",
    "My_Array[::-1]"
   ]
  },
  {
   "cell_type": "markdown",
   "metadata": {},
   "source": [
    "`[::-1]` reprints a reversed copy of ordered data structures such as an array or a list. the original array or list remains unchanged."
   ]
  },
  {
   "cell_type": "markdown",
   "metadata": {},
   "source": [
    "#### 22. How can you randomize the items of a list in place in Python?\n",
    "\n",
    "Consider the example shown below:"
   ]
  },
  {
   "cell_type": "code",
   "execution_count": 13,
   "metadata": {},
   "outputs": [
    {
     "name": "stdout",
     "output_type": "stream",
     "text": [
      "['Flying', 'High', 'Keep', 'Blue', 'Flag', 'The']\n"
     ]
    }
   ],
   "source": [
    "from random import shuffle\n",
    "\n",
    "x = ['Keep', 'The', 'Blue', 'Flag', 'Flying', 'High']\n",
    "\n",
    "shuffle(x)\n",
    "\n",
    "print(x)"
   ]
  },
  {
   "cell_type": "markdown",
   "metadata": {},
   "source": [
    "#### 23. What are python iterators?\n",
    "\n",
    "Iterators are objects which can be traversed though or iterated upon."
   ]
  },
  {
   "cell_type": "markdown",
   "metadata": {},
   "source": [
    "#### 24. How can you generate random numbers in Python?\n",
    "\n",
    "Random module is the standard module that is used to generate a random number. The method is defined as:"
   ]
  },
  {
   "cell_type": "code",
   "execution_count": 15,
   "metadata": {},
   "outputs": [
    {
     "data": {
      "text/plain": [
       "0.8782648626742828"
      ]
     },
     "execution_count": 15,
     "metadata": {},
     "output_type": "execute_result"
    }
   ],
   "source": [
    "import random\n",
    "\n",
    "random.random()"
   ]
  },
  {
   "cell_type": "markdown",
   "metadata": {},
   "source": [
    "The statement random.random() method return the floating point number that is in the range of `(0, 1)`. The function generates random float numbers. The methods that are used with the random class are the bound methods of the hidden instances. The instances of the Random can be done to show the multi-threading programs that creates a different instance of individual threads. The other random generators that are used in this are:\n",
    "\n",
    "1. randrange(a, b): it chooses an integer and define the range in-between `(a, b)`. It returns the elements by selecting it randomly from the range that is specified. It doesn’t build a range object.\n",
    "2. uniform(a, b): it chooses a floating point number that is defined in the range of `(a, b)`.Iyt returns the floating point number\n",
    "3. normalvariate(mean, sdev): it is used for the normal distribution where the mu is a mean and the sdev is a sigma that is used for standard deviation.\n",
    "4. The Random class that is used and instantiated creates an independent multiple random number generators."
   ]
  },
  {
   "cell_type": "markdown",
   "metadata": {},
   "source": [
    "#### 25. What is the difference between range & xrange?\n",
    "\n",
    "For the most part, xrange and range are the exact same in terms of functionality. They both provide a way to generate a list of integers for you to use, however you please. The only difference is that range returns a Python list object and x range returns an xrange object.\n",
    "\n",
    "This means that xrange doesn’t actually generate a static list at run-time like range does. It creates the values as you need them with a special technique called yielding. This technique is used with a type of object known as generators. That means that if you have a really gigantic range you’d like to generate a list for, say one billion, xrange is the function to use.\n",
    "\n",
    "This is especially true if you have a really memory sensitive system such as a cell phone that you are working with, as range will use as much memory as it can to create your array of integers, which can result in a Memory Error and crash your program. It’s a memory hungry beast."
   ]
  },
  {
   "cell_type": "markdown",
   "metadata": {},
   "source": [
    "#### 26. How do you write comments in python?\n",
    "\n",
    "Comments in Python start with a `#` character. However, alternatively at times, commenting is done using docstrings(strings enclosed within triple quotes)."
   ]
  },
  {
   "cell_type": "code",
   "execution_count": 16,
   "metadata": {},
   "outputs": [
    {
     "name": "stdout",
     "output_type": "stream",
     "text": [
      "Comments in Python start with a #\n"
     ]
    }
   ],
   "source": [
    "# Comments in Python start like this\n",
    "\n",
    "print(\"Comments in Python start with a #\")"
   ]
  },
  {
   "cell_type": "markdown",
   "metadata": {},
   "source": [
    "#### 27. What is pickling and unpickling?\n",
    "\n",
    "Pickle module accepts any Python object and converts it into a string representation and dumps it into a file by using dump function, this process is called pickling. While the process of retrieving original Python objects from the stored string representation is called unpickling."
   ]
  },
  {
   "cell_type": "markdown",
   "metadata": {},
   "source": [
    "#### 28. What are the generators in python?\n",
    "\n",
    "Functions that return an iterable set of items are called generators."
   ]
  },
  {
   "cell_type": "markdown",
   "metadata": {},
   "source": [
    "#### 29. How will you capitalize the first letter of string?\n",
    "\n",
    "In Python, the `capitalize()` method capitalizes the first letter of a string. If the string already consists of a capital letter at the beginning, then, it returns the original string."
   ]
  },
  {
   "cell_type": "markdown",
   "metadata": {},
   "source": [
    "#### 30. How will you convert a string to all lowercase?\n",
    "\n",
    "To convert a string to lowercase, `lower()` function can be used."
   ]
  },
  {
   "cell_type": "code",
   "execution_count": 17,
   "metadata": {},
   "outputs": [
    {
     "name": "stdout",
     "output_type": "stream",
     "text": [
      "abcd\n"
     ]
    }
   ],
   "source": [
    "stg='ABCD'\n",
    "\n",
    "print(stg.lower())"
   ]
  },
  {
   "cell_type": "markdown",
   "metadata": {},
   "source": [
    "#### 31. How to comment multiple lines in python?\n",
    "\n",
    "Multi-line comments appear in more than one line. All the lines to be commented are to be prefixed by a #. You can also a very good shortcut method to comment multiple lines. All you need to do is hold the ctrl key and left click in every place wherever you want to include a # character and type a # just once. This will comment all the lines where you introduced your cursor."
   ]
  },
  {
   "cell_type": "markdown",
   "metadata": {},
   "source": [
    "#### 32. What are docstrings in Python?\n",
    "\n",
    "Docstrings are not actually comments, but, they are **documentation strings**. These docstrings are within triple quotes. They are not assigned to any variable and therefore, at times, serve the purpose of comments as well."
   ]
  },
  {
   "cell_type": "code",
   "execution_count": 19,
   "metadata": {},
   "outputs": [
    {
     "name": "stdout",
     "output_type": "stream",
     "text": [
      "2.0\n"
     ]
    }
   ],
   "source": [
    "\"\"\"\n",
    "Using docstring as a comment.\n",
    "This code divides 2 numbers\n",
    "\"\"\"\n",
    "x = 8\n",
    "\n",
    "y = 4\n",
    "\n",
    "z = x/y\n",
    "\n",
    "print(z)"
   ]
  },
  {
   "cell_type": "markdown",
   "metadata": {},
   "source": [
    "#### 33. What is the purpose of is, not and in operators?\n",
    "\n",
    "Operators are special functions. They take one or more values and produce a corresponding result.\n",
    "\n",
    "`is`: returns true when 2 operands are true (Example: “a” is ‘a’)\n",
    "\n",
    "`not`: returns the inverse of the boolean value\n",
    "\n",
    "`in`: checks if some element is present in some sequence"
   ]
  },
  {
   "cell_type": "markdown",
   "metadata": {},
   "source": [
    "#### 34. What is the usage of help() and dir() function in Python?\n",
    "\n",
    "`help()` and `dir()` both functions are accessible from the Python interpreter and used for viewing a consolidated dump of built-in functions.\n",
    "\n",
    "1. `Help()` function: The `help()` function is used to display the documentation string and also facilitates you to see the help related to modules, keywords, attributes, etc.\n",
    "2. `Dir()` function: The `dir()` function is used to display the defined symbols."
   ]
  },
  {
   "cell_type": "markdown",
   "metadata": {},
   "source": [
    "#### 35. Whenever Python exits, why isn’t all the memory de-allocated?\n",
    "\n",
    "1. Whenever Python exits, especially those Python modules which are having circular references to other objects or the objects that are referenced from the global namespaces are not always de-allocated or freed.\n",
    "\n",
    "2. It is impossible to de-allocate those portions of memory that are reserved by the C library.\n",
    "\n",
    "3. On exit, because of having its own efficient clean up mechanism, Python would try to de-allocate/destroy every other object."
   ]
  },
  {
   "cell_type": "markdown",
   "metadata": {},
   "source": [
    "#### 36. What is a dictionary in Python?\n",
    "\n",
    "The built-in datatypes in Python is called dictionary. It defines one-to-one relationship between keys and values. \n",
    "\n",
    "Dictionaries contain pair of keys and their corresponding values. Dictionaries are indexed by keys.\n",
    "\n",
    "Let’s take an example:\n",
    "\n",
    "The following example contains some keys. Country, Capital & PM. Their corresponding values are India, Delhi and Modi respectively."
   ]
  },
  {
   "cell_type": "code",
   "execution_count": 51,
   "metadata": {},
   "outputs": [
    {
     "name": "stdout",
     "output_type": "stream",
     "text": [
      "India\n",
      "Delhi\n",
      "Modi\n"
     ]
    }
   ],
   "source": [
    "mydict = {'Country':'India','Capital':'Delhi','PM':'Modi'}\n",
    "\n",
    "print(mydict['Country'])\n",
    "\n",
    "print(mydict['Capital'])\n",
    "\n",
    "print(mydict['PM'])"
   ]
  },
  {
   "cell_type": "markdown",
   "metadata": {},
   "source": [
    "#### 37. How can the ternary operators be used in python?\n",
    "\n",
    "The Ternary operator is the operator that is used to show the conditional statements. This consists of the true or false values with a statement that has to be evaluated for it.\n",
    "\n",
    "Syntax:\n",
    "\n",
    "The Ternary operator will be given as:\n",
    "`[on_true]` if `[expression]` else `[on_false]`"
   ]
  },
  {
   "cell_type": "code",
   "execution_count": 24,
   "metadata": {},
   "outputs": [
    {
     "name": "stdout",
     "output_type": "stream",
     "text": [
      "25\n"
     ]
    }
   ],
   "source": [
    "x, y = 25, 50\n",
    "\n",
    "big = x if x < y else y\n",
    "\n",
    "print(big)"
   ]
  },
  {
   "cell_type": "markdown",
   "metadata": {},
   "source": [
    "#### 38. What does this mean: *args, **kwargs? And why would we use it?\n",
    "\n",
    "We use `*args` when we aren’t sure how many arguments are going to be passed to a function, or if we want to pass a stored list or tuple of arguments to a function. `**kwargs` is used when we don’t know how many keyword arguments will be passed to a function, or it can be used to pass the values of a dictionary as keyword arguments. The identifiers args and kwargs are a convention, you could also use `*bob` and `**billy` but that would not be wise."
   ]
  },
  {
   "cell_type": "markdown",
   "metadata": {},
   "source": [
    "#### 39. What does `len()` do?\n",
    "\n",
    "It is used to determine the length of a string, a list, an array, etc."
   ]
  },
  {
   "cell_type": "code",
   "execution_count": 25,
   "metadata": {},
   "outputs": [
    {
     "data": {
      "text/plain": [
       "4"
      ]
     },
     "execution_count": 25,
     "metadata": {},
     "output_type": "execute_result"
    }
   ],
   "source": [
    "stg='ABCD'\n",
    "\n",
    "len(stg)"
   ]
  },
  {
   "cell_type": "markdown",
   "metadata": {},
   "source": [
    "#### 40. Explain `split()`, `sub()`, `subn()` methods of “re” module in Python.\n",
    "\n",
    "To modify the strings, Python’s “re” module is providing 3 methods. They are:\n",
    "\n",
    "- `split()` – uses a regex pattern to “split” a given string into a list.\n",
    "- `sub()` – finds all substrings where the regex pattern matches and then replace them with a different string\n",
    "- `subn()` – it is similar to `sub()` and also returns the new string along with the no. of replacements."
   ]
  },
  {
   "cell_type": "markdown",
   "metadata": {},
   "source": [
    "#### 41. What are negative indexes and why are they used?\n",
    "\n",
    "The sequences in Python are indexed and it consists of the positive as well as negative numbers. The numbers that are positive uses `‘0’` that is uses as first index and `‘1’` as the second index and the process goes on like that.\n",
    "\n",
    "The index for the negative number starts from `‘-1’` that represents the last index in the sequence and `‘-2’` as the penultimate index and the sequence carries forward like the positive number.\n",
    "\n",
    "The negative index is used to remove any new-line spaces from the string and allow the string to except the last character that is given as `S[:-1]`. The negative index is also used to show the index to represent the string in correct order."
   ]
  },
  {
   "cell_type": "markdown",
   "metadata": {},
   "source": [
    "#### 42. What are Python packages?\n",
    "\n",
    "Python packages are namespaces containing multiple modules."
   ]
  },
  {
   "cell_type": "markdown",
   "metadata": {},
   "source": [
    "#### 43. How can files be deleted in Python?\n",
    "\n",
    "To delete a file in Python, you need to import the OS Module. After that, you need to use the `os.remove()` function."
   ]
  },
  {
   "cell_type": "code",
   "execution_count": 29,
   "metadata": {},
   "outputs": [],
   "source": [
    "import os\n",
    "\n",
    "# create empty file\n",
    "open(\"xyz.txt\", 'a').close()\n",
    "\n",
    "os.remove(\"xyz.txt\")"
   ]
  },
  {
   "cell_type": "markdown",
   "metadata": {},
   "source": [
    "#### 44. What are the built-in types of python?\n",
    "\n",
    "Built-in types in Python are as follows –\n",
    "\n",
    "- Integers\n",
    "- Floating-point\n",
    "- Complex numbers\n",
    "- Strings\n",
    "- Boolean\n",
    "- Built-in functions"
   ]
  },
  {
   "cell_type": "markdown",
   "metadata": {},
   "source": [
    "#### 45. What advantages do NumPy arrays offer over (nested) Python lists?\n",
    "\n",
    "\n",
    "1. Python’s lists are efficient general-purpose containers. They support (fairly) efficient insertion, deletion, appending, and concatenation, and Python’s list comprehensions make them easy to construct and manipulate.\n",
    "\n",
    "2. They have certain limitations: they don’t support “vectorized” operations like elementwise addition and multiplication, and the fact that they can contain objects of differing types mean that Python must store type information for every element, and must execute type dispatching code when operating on each element.\n",
    "\n",
    "3. NumPy is not just more efficient; it is also more convenient. You get a lot of vector and matrix operations for free, which sometimes allow one to avoid unnecessary work. And they are also efficiently implemented.\n",
    "\n",
    "4. NumPy array is faster and You get a lot built in with NumPy, FFTs, convolutions, fast searching, basic statistics, linear algebra, histograms, etc"
   ]
  },
  {
   "cell_type": "markdown",
   "metadata": {},
   "source": [
    "#### 46. How to add values to a python array?\n",
    "\n",
    "Elements can be added to an array using the `append()`, `extend()` and the `insert(i,x)` functions."
   ]
  },
  {
   "cell_type": "code",
   "execution_count": 30,
   "metadata": {},
   "outputs": [
    {
     "name": "stdout",
     "output_type": "stream",
     "text": [
      "[1.1, 2.1, 3.1, 3.4]\n",
      "[1.1, 2.1, 3.1, 3.4, 4.5, 6.3, 6.8]\n",
      "[1.1, 2.1, 3.8, 3.1, 3.4, 4.5, 6.3, 6.8]\n"
     ]
    }
   ],
   "source": [
    "a = [1.1 , 2.1 ,3.1]\n",
    "a.append(3.4)\n",
    "print(a)\n",
    "\n",
    "a.extend([4.5,6.3,6.8])\n",
    "print(a)\n",
    "\n",
    "a.insert(2,3.8)\n",
    "print(a)"
   ]
  },
  {
   "cell_type": "markdown",
   "metadata": {},
   "source": [
    "#### 47. How to remove values to a python array?\n",
    "\n",
    "Array elements can be removed using `pop()` or `remove()` method. The difference between these two functions is that the former returns the deleted value whereas the latter does not."
   ]
  },
  {
   "cell_type": "code",
   "execution_count": 31,
   "metadata": {},
   "outputs": [
    {
     "name": "stdout",
     "output_type": "stream",
     "text": [
      "4.6\n",
      "3.1\n",
      "[2.2, 3.8, 3.7, 1.2]\n"
     ]
    }
   ],
   "source": [
    "a = [1.1, 2.2, 3.8, 3.1, 3.7, 1.2, 4.6]\n",
    "\n",
    "print(a.pop())\n",
    "\n",
    "print(a.pop(3))\n",
    "\n",
    "a.remove(1.1)\n",
    "\n",
    "print(a)"
   ]
  },
  {
   "cell_type": "markdown",
   "metadata": {},
   "source": [
    "#### 48. Does Python have OOPs concepts?\n",
    "\n",
    "Python is an object-oriented programming language. This means that any program can be solved in python by creating an object model. However, Python can be treated as procedural as well as structural language."
   ]
  },
  {
   "cell_type": "markdown",
   "metadata": {},
   "source": [
    "#### 49. What is the difference between deep and shallow copy?\n",
    "\n",
    "**Shallow copy** is used when a new instance type gets created and it keeps the values that are copied in the new instance. Shallow copy is used to copy the reference pointers just like it copies the values. These references point to the original objects and the changes made in any member of the class will also affect the original copy of it. Shallow copy allows faster execution of the program and it depends on the size of the data that is used.\n",
    "\n",
    "**Deep copy** is used to store the values that are already copied. Deep copy doesn’t copy the reference pointers to the objects. It makes the reference to an object and the new object that is pointed by some other object gets stored. The changes made in the original copy won’t affect any other copy that uses the object. Deep copy makes execution of the program slower due to making certain copies for each object that is been called."
   ]
  },
  {
   "cell_type": "markdown",
   "metadata": {},
   "source": [
    "#### 50. How is Multithreading achieved in Python?\n",
    "\n",
    "1. Python has a multi-threading package but if you want to multi-thread to speed your code up, then it’s usually not a good idea to use it.\n",
    "\n",
    "2. Python has a construct called the Global Interpreter Lock (GIL). The GIL makes sure that only one of your ‘threads’ can execute at any one time. A thread acquires the GIL, does a little work, then passes the GIL onto the next thread.\n",
    "\n",
    "3. This happens very quickly so to the human eye it may seem like your threads are executing in parallel, but they are really just taking turns using the same CPU core.\n",
    "\n",
    "4. All this GIL passing adds overhead to execution. This means that if you want to make your code run faster then using the threading package often isn’t a good idea."
   ]
  },
  {
   "cell_type": "markdown",
   "metadata": {},
   "source": [
    "#### 51. What is the process of compilation and linking in python?\n",
    "\n",
    "The compiling and linking allows the new extensions to be compiled properly without any error and the linking can be done only when it passes the compiled procedure. If the dynamic loading is used then it depends on the style that is being provided with the system. The python interpreter can be used to provide the dynamic loading of the configuration setup files and will rebuild the interpreter.\n",
    "The steps that are required in this as:\n",
    "\n",
    "1. Create a file with any name and in any language that is supported by the compiler of your system. For example `file.c` or `file.cpp`\n",
    "\n",
    "2. Place this file in the Modules/ directory of the distribution which is getting used.\n",
    "\n",
    "3. Add a line in the file Setup.local that is present in the Modules/ directory.\n",
    "\n",
    "4. Run the file using spam `file.o`\n",
    "\n",
    "5. After a successful run of this rebuild the interpreter by using the make command on the top-level directory.\n",
    "\n",
    "6. If the file is changed then run rebuildMakefile by using the command as `make` `Makefile`."
   ]
  },
  {
   "cell_type": "markdown",
   "metadata": {},
   "source": [
    "#### 52. What are Python libraries? Name a few of them. \n",
    "\n",
    "Python libraries are a collection of Python packages. Some of the majorly used python libraries are\n",
    "\n",
    "– Numpy, Pandas, Matplotlib, Scikit-learn and many more."
   ]
  },
  {
   "cell_type": "markdown",
   "metadata": {},
   "source": [
    "#### 53. What is split used for?\n",
    "\n",
    "The `split()` method is used to separate a given string in Python."
   ]
  },
  {
   "cell_type": "code",
   "execution_count": 32,
   "metadata": {},
   "outputs": [
    {
     "name": "stdout",
     "output_type": "stream",
     "text": [
      "['edureka', 'python']\n"
     ]
    }
   ],
   "source": [
    "a = \"edureka python\"\n",
    "\n",
    "print(a.split())"
   ]
  },
  {
   "cell_type": "markdown",
   "metadata": {},
   "source": [
    "#### 54. How to import modules in python?\n",
    "\n",
    "Modules can be imported using the import keyword. You can import modules in three ways-"
   ]
  },
  {
   "cell_type": "code",
   "execution_count": 33,
   "metadata": {},
   "outputs": [],
   "source": [
    "import array           # importing using the original module name\n",
    "\n",
    "import array as arr    # importing using an alias name\n",
    "\n",
    "from array import *    # imports everything present in the array module"
   ]
  },
  {
   "cell_type": "markdown",
   "metadata": {},
   "source": [
    "### OOPS Interview Questions"
   ]
  },
  {
   "cell_type": "markdown",
   "metadata": {},
   "source": [
    "#### 55. Explain Inheritance in Python with an example.\n",
    "\n",
    "Inheritance allows One class to gain all the members(say attributes and methods) of another class. Inheritance provides code reusability, makes it easier to create and maintain an application. The class from which we are inheriting is called super-class and the class that is inherited is called a derived / child class.\n",
    "They are different types of inheritance supported by Python:\n",
    "\n",
    "1. **Single Inheritance** – where a derived class acquires the members of a single super class.\n",
    "2. **Multi-level inheritance** – a derived class d1 in inherited from base class base1, and d2 are inherited from base2.\n",
    "3. **Hierarchical inheritance** – from one base class you can inherit any number of child classes\n",
    "4. **Multiple inheritance** – a derived class is inherited from more than one base class."
   ]
  },
  {
   "cell_type": "markdown",
   "metadata": {},
   "source": [
    "#### 56. How are classes created in Python?\n",
    "\n",
    "Class in Python is created using the `class` keyword."
   ]
  },
  {
   "cell_type": "code",
   "execution_count": 34,
   "metadata": {},
   "outputs": [
    {
     "name": "stdout",
     "output_type": "stream",
     "text": [
      "abc\n"
     ]
    }
   ],
   "source": [
    "class Employee:\n",
    "    def __init__(self, name):\n",
    "        self.name = name\n",
    "\n",
    "E1=Employee(\"abc\")\n",
    "\n",
    "print(E1.name)"
   ]
  },
  {
   "cell_type": "markdown",
   "metadata": {},
   "source": [
    "#### 57. What is monkey patching in Python?\n",
    "\n",
    "In Python, the term monkey patch only refers to dynamic modifications of a class or module at run-time."
   ]
  },
  {
   "cell_type": "markdown",
   "metadata": {},
   "source": [
    "Consider the below example:"
   ]
  },
  {
   "cell_type": "markdown",
   "metadata": {},
   "source": [
    "```python\n",
    "# m.py\n",
    "class MyClass:\n",
    "    def f(self):\n",
    "        print(\"f()\")\n",
    "        \n",
    "```"
   ]
  },
  {
   "cell_type": "markdown",
   "metadata": {},
   "source": [
    "We can then run the monkey-patch testing like this:"
   ]
  },
  {
   "cell_type": "markdown",
   "metadata": {},
   "source": [
    "```python\n",
    "import m\n",
    "\n",
    "def monkey_f(self):\n",
    "    print(\"monkey_f()\")\n",
    "\n",
    "m.MyClass.f = monkey_f\n",
    "\n",
    "obj = m.MyClass()```"
   ]
  },
  {
   "cell_type": "markdown",
   "metadata": {},
   "source": [
    "As we can see, we did make some changes in the behavior of `f()` in MyClass using the function we defined, `monkey_f()`, outside of the module `m`."
   ]
  },
  {
   "cell_type": "markdown",
   "metadata": {},
   "source": [
    "#### 58. Does python support multiple inheritance?\n",
    "\n",
    "Multiple inheritance means that a class can be derived from more than one parent classes. Python does support multiple inheritance, unlike Java."
   ]
  },
  {
   "cell_type": "markdown",
   "metadata": {},
   "source": [
    "#### 59. What is Polymorphism in Python?\n",
    "\n",
    "Polymorphism means the ability to take multiple forms. So, for instance, if the parent class has a method named ABC then the child class also can have a method with the same name ABC having its own parameters and variables. Python allows polymorphism."
   ]
  },
  {
   "cell_type": "markdown",
   "metadata": {},
   "source": [
    "#### 60. Define encapsulation in Python?\n",
    "\n",
    "Encapsulation means binding the code and the data together. A Python class in an example of encapsulation."
   ]
  },
  {
   "cell_type": "markdown",
   "metadata": {},
   "source": [
    "#### 61. How do you do data abstraction in Python?\n",
    "\n",
    "Data Abstraction is providing only the required details and hiding the implementation from the world. It can be achieved in Python by using interfaces and abstract classes."
   ]
  },
  {
   "cell_type": "markdown",
   "metadata": {},
   "source": [
    "#### 62.Does python make use of access specifiers?\n",
    "\n",
    "Python does not deprive access to an instance variable or function. Python lays down the concept of prefixing the name of the variable, function or method with a single or double underscore to imitate the behavior of protected and private access specifiers."
   ]
  },
  {
   "cell_type": "markdown",
   "metadata": {},
   "source": [
    "#### 63. How to create an empty class in Python?\n",
    "\n",
    "An empty class is a class that does not have any code defined within its block. It can be created using the pass keyword. However, you can create objects of this class outside the class itself. IN PYTHON THE PASS command does nothing when its executed. it’s a null statement."
   ]
  },
  {
   "cell_type": "code",
   "execution_count": 38,
   "metadata": {},
   "outputs": [
    {
     "name": "stdout",
     "output_type": "stream",
     "text": [
      "Name =  xyz\n"
     ]
    }
   ],
   "source": [
    "class a:\n",
    "    pass\n",
    "\n",
    "obj = a()\n",
    "\n",
    "obj.name = \"xyz\"\n",
    "\n",
    "print(\"Name = \", obj.name)"
   ]
  },
  {
   "cell_type": "markdown",
   "metadata": {},
   "source": [
    "#### 64. What does an `object()` do?\n",
    "\n",
    "It returns a featureless object that is a base for all classes. Also, it does not take any parameters."
   ]
  },
  {
   "cell_type": "markdown",
   "metadata": {},
   "source": [
    "## Basic Python Programs"
   ]
  },
  {
   "cell_type": "markdown",
   "metadata": {},
   "source": [
    "#### 65. Write a program in Python to execute the Bubble sort algorithm."
   ]
  },
  {
   "cell_type": "code",
   "execution_count": 39,
   "metadata": {},
   "outputs": [
    {
     "data": {
      "text/plain": [
       "[3, 5, 6, 7, 32, 54, 87]"
      ]
     },
     "execution_count": 39,
     "metadata": {},
     "output_type": "execute_result"
    }
   ],
   "source": [
    "def bs(a):             # a = name of list\n",
    "    b=len(a)-1         # minus 1 because we always compare 2 adjacent values\n",
    "\n",
    "    for x in range(b):\n",
    "        for y in range(b-x):\n",
    "            if a[y] > a[y+1]:\n",
    "                a[y], a[y+1] = a[y+1], a[y]\n",
    "    return a\n",
    "\n",
    "a = [32,5,3,6,7,54,87]\n",
    "\n",
    "bs(a)"
   ]
  },
  {
   "cell_type": "markdown",
   "metadata": {},
   "source": [
    "#### 66. Write a program in Python to produce Star triangle."
   ]
  },
  {
   "cell_type": "code",
   "execution_count": 40,
   "metadata": {},
   "outputs": [
    {
     "name": "stdout",
     "output_type": "stream",
     "text": [
      "        *\n",
      "       ***\n",
      "      *****\n",
      "     *******\n",
      "    *********\n",
      "   ***********\n",
      "  *************\n",
      " ***************\n",
      "*****************\n"
     ]
    }
   ],
   "source": [
    "def pyfunc(r):\n",
    "    for x in range(r):\n",
    "        print(' '*(r-x-1)+'*'*(2*x+1))    \n",
    "\n",
    "pyfunc(9)"
   ]
  },
  {
   "cell_type": "markdown",
   "metadata": {},
   "source": [
    "#### 67. Write a program to produce Fibonacci series in Python."
   ]
  },
  {
   "cell_type": "code",
   "execution_count": 42,
   "metadata": {},
   "outputs": [
    {
     "name": "stdout",
     "output_type": "stream",
     "text": [
      "Enter the terms 5\n",
      "0 1 1 2 3 "
     ]
    }
   ],
   "source": [
    "# Enter number of terms needed                   #0,1,1,2,3,5....\n",
    "a = int(input(\"Enter the terms \"))\n",
    "f = 0                                         #first element of series\n",
    "s = 1                                         #second element of series\n",
    "if a <= 0:\n",
    "    print(\"The requested series is\", f)\n",
    "else:\n",
    "    print(f, s, end=\" \")\n",
    "    for x in range(2,a):\n",
    "        next = f + s                           \n",
    "        print(next, end=\" \")\n",
    "        f = s\n",
    "        s = next"
   ]
  },
  {
   "cell_type": "markdown",
   "metadata": {},
   "source": [
    "#### 68. Write a program in Python to check if a number is prime."
   ]
  },
  {
   "cell_type": "code",
   "execution_count": 43,
   "metadata": {},
   "outputs": [
    {
     "name": "stdout",
     "output_type": "stream",
     "text": [
      "enter number 5\n",
      "Prime\n"
     ]
    }
   ],
   "source": [
    "a = int(input(\"enter number \"))     \n",
    "\n",
    "if a > 1:\n",
    "    for x in range(2, a):\n",
    "        if(a % x) == 0:\n",
    "            print(\"not prime\")\n",
    "            break\n",
    "    else:\n",
    "        print(\"Prime\")\n",
    "else:\n",
    "    print(\"not prime\")"
   ]
  },
  {
   "cell_type": "markdown",
   "metadata": {},
   "source": [
    "#### 69. Write a program in Python to check if a sequence is a Palindrome."
   ]
  },
  {
   "cell_type": "code",
   "execution_count": 44,
   "metadata": {},
   "outputs": [
    {
     "name": "stdout",
     "output_type": "stream",
     "text": [
      "enter sequenceanna\n",
      "palindrome\n"
     ]
    }
   ],
   "source": [
    "a = input(\"enter sequence\")\n",
    "\n",
    "b = a[::-1]\n",
    "\n",
    "if a == b:\n",
    "    print(\"palindrome\")\n",
    "else:\n",
    "    print(\"Not a Palindrome\")"
   ]
  },
  {
   "cell_type": "markdown",
   "metadata": {},
   "source": [
    "#### 70. Write a one-liner that will count the number of capital letters in a file. Your code should work even if the file is too big to fit in memory."
   ]
  },
  {
   "cell_type": "markdown",
   "metadata": {},
   "source": [
    "```python\n",
    "with open(SOME_LARGE_FILE) as fh:\n",
    "    count = 0\n",
    "    text = fh.read()\n",
    "    for character in text:\n",
    "        if character.isupper():\n",
    "    count += 1\n",
    "```\n",
    "\n",
    "We will now try to transform this into a single line.\n",
    "\n",
    "```python\n",
    "count sum(1 for line in fh for character in line if character.isupper())\n",
    "```"
   ]
  },
  {
   "cell_type": "markdown",
   "metadata": {},
   "source": [
    "#### 71. Write a sorting algorithm for a numerical dataset in Python."
   ]
  },
  {
   "cell_type": "code",
   "execution_count": 45,
   "metadata": {},
   "outputs": [
    {
     "name": "stdout",
     "output_type": "stream",
     "text": [
      "[0, 1, 4, 6, 9]\n"
     ]
    }
   ],
   "source": [
    "list = [\"1\", \"4\", \"0\", \"6\", \"9\"]\n",
    "\n",
    "list = [int(i) for i in list]\n",
    "\n",
    "list.sort()\n",
    "\n",
    "print (list)"
   ]
  },
  {
   "cell_type": "markdown",
   "metadata": {},
   "source": [
    "#### 72. Looking at the below code, write down the final values of A0, A1, …An."
   ]
  },
  {
   "cell_type": "code",
   "execution_count": 2,
   "metadata": {},
   "outputs": [
    {
     "name": "stdout",
     "output_type": "stream",
     "text": [
      "{'a': 1, 'b': 2, 'c': 3}\n",
      "range(0, 10)\n",
      "[]\n",
      "[1, 2, 3]\n",
      "[1, 2, 3]\n",
      "{0: 0, 1: 1, 2: 4, 3: 9, 4: 16, 5: 25, 6: 36, 7: 49, 8: 64, 9: 81}\n",
      "[[0, 0], [1, 1], [2, 4], [3, 9], [4, 16], [5, 25], [6, 36], [7, 49], [8, 64], [9, 81]]\n"
     ]
    }
   ],
   "source": [
    "keys = ['a', 'b', 'c']\n",
    "values = [1, 2, 3]\n",
    "A0 = dict(zip(keys, values))\n",
    "\n",
    "A1 = range(10)\n",
    "\n",
    "A2 = sorted([i for i in A1 if i in A0])\n",
    "\n",
    "A3 = sorted([A0[s] for s in A0])\n",
    "\n",
    "A4 = [i for i in A1 if i in A3]\n",
    "\n",
    "A5 = {i: i*i for i in A1}\n",
    "\n",
    "A6 = [[i, i*i] for i in A1]\n",
    "\n",
    "print(A0)\n",
    "print(A1)\n",
    "print(A2)\n",
    "print(A3)\n",
    "print(A4)\n",
    "print(A5)\n",
    "print(A6)"
   ]
  },
  {
   "cell_type": "markdown",
   "metadata": {},
   "source": [
    "### Python Libraries Interview Questions"
   ]
  },
  {
   "cell_type": "markdown",
   "metadata": {},
   "source": [
    "#### 73. Explain what Flask is and its benefits?\n",
    "\n",
    "Flask is a web microframework for Python based on “Werkzeug, Jinja2 and good intentions” BSD license. Werkzeug and Jinja2 are two of its dependencies. This means it will have little to no dependencies on external libraries. It makes the framework light while there is a little dependency to update and fewer security bugs.\n",
    "\n",
    "A session basically allows you to remember information from one request to another. In a flask, a session uses a signed cookie so the user can look at the session contents and modify. The user can modify the session if only it has the secret key Flask.secret_key."
   ]
  },
  {
   "cell_type": "markdown",
   "metadata": {},
   "source": [
    "#### 74. Is Django better than Flask?\n",
    "\n",
    "Django and Flask map the URL’s or addresses typed in the web browsers to functions in Python.\n",
    "\n",
    "Flask is much simpler compared to Django but, Flask does not do a lot for you meaning you will need to specify the details, whereas Django does a lot for you wherein you would not need to do much work. Django consists of per-written code, which the user will need to analyze whereas Flask gives the users to create their own code, therefore, making it simpler to understand the code. Technically both are equally good and both contain their own pros and cons.\n"
   ]
  },
  {
   "cell_type": "markdown",
   "metadata": {},
   "source": [
    "#### 75. Mention the differences between Django, Pyramid and Flask.\n",
    "\n",
    "- Flask is a “microframework” primarily build for a small application with simpler requirements. In flask, you have to use external libraries. Flask is ready to use.\n",
    "\n",
    "- Pyramid is built for larger applications. It provides flexibility and lets the developer use the right tools for their project. The developer can choose the database, URL structure, templating style and more. Pyramid is heavy configurable.\n",
    "\n",
    "- Django can also be used for larger applications just like Pyramid. It includes an ORM."
   ]
  },
  {
   "cell_type": "markdown",
   "metadata": {},
   "source": [
    "#### 76. Discuss Django architecture.\n",
    "\n",
    "Django MVT Pattern:\n",
    "\n",
    "![Django Architecture - Python Interview Questions - Edureka](https://www.edureka.co/blog/wp-content/uploads/2017/06/Django-Architecture-Python-Interview-Questions-Edureka.png)"
   ]
  },
  {
   "cell_type": "markdown",
   "metadata": {},
   "source": [
    "The developer provides the Model, the view and the template then just maps it to a URL and Django does the magic to serve it to the user."
   ]
  },
  {
   "cell_type": "markdown",
   "metadata": {},
   "source": [
    "#### 77. Explain how you can set up the Database in Django.\n",
    "\n",
    "You can use the command edit mysite/setting.py, it is a normal python module with module level representing Django settings.\n",
    "\n",
    "Django uses SQLite by default; it is easy for Django users as such it won’t require any other type of installation. In the case your database choice is different that you have to the following keys in the DATABASE ‘default’ item to match your database connection settings.\n",
    "\n",
    "- Engines: you can change the database by using `django.db.backends.sqlite3` , `django.db.backeneds.mysql`, `django.db.backends.postgresql_psycopg2`, `django.db.backends.oracle` and so on\n",
    "\n",
    "- Name: The name of your database. In the case if you are using SQLite as your database, in that case, database will be a file on your computer, Name should be a full absolute path, including the file name of that file.\n",
    "- If you are not choosing SQLite as your database then settings like Password, Host, User, etc. must be added.\n",
    "\n",
    "Django uses SQLite as a default database, it stores data as a single file in the filesystem. If you do have a database server—PostgreSQL, MySQL, Oracle, MSSQL—and want to use it rather than SQLite, then use your database’s administration tools to create a new database for your Django project. Either way, with your (empty) database in place, all that remains is to tell Django how to use it. This is where your project’s `settings.py` file comes in.\n",
    "We will add the following lines of code to the `setting.py` file:"
   ]
  },
  {
   "cell_type": "code",
   "execution_count": 6,
   "metadata": {},
   "outputs": [],
   "source": [
    "import os\n",
    "BASE_DIR = \"./\"\n",
    "\n",
    "DATABASES = {\n",
    "     'default': {\n",
    "          'ENGINE' : 'django.db.backends.sqlite3',\n",
    "          'NAME' : os.path.join(BASE_DIR, 'db.sqlite3'),\n",
    "     }\n",
    "}"
   ]
  },
  {
   "cell_type": "markdown",
   "metadata": {},
   "source": [
    "#### 78. Give an example how you can write a VIEW in Django?\n",
    "\n",
    "This is how we can use write a view in Django:"
   ]
  },
  {
   "cell_type": "markdown",
   "metadata": {},
   "source": [
    "```python\n",
    "\n",
    "from django.http import HttpResponse\n",
    "import datetime\n",
    "\n",
    "def Current_datetime(request):\n",
    "     now = datetime.datetime.now()\n",
    "     html = \"<html><body>It is now %s</body></html> % now\n",
    "     return HttpResponse(html)\n",
    "```"
   ]
  },
  {
   "cell_type": "markdown",
   "metadata": {},
   "source": [
    "#### 79. Mention what the Django templates consist of.\n",
    "\n",
    "The template is a simple text file. It can create any text-based format like XML, CSV, HTML, etc. A template contains variables that get replaced with values when the template is evaluated and tags (% tag %) that control the logic of the template.\n",
    "\n",
    "![Django Template - Python Interview Questions - Edureka](https://d1jnx9ba8s6j9r.cloudfront.net/blog/wp-content/uploads/2017/06/Django-Template-Python-Interview-Questions-Edureka.png)\n"
   ]
  },
  {
   "cell_type": "markdown",
   "metadata": {},
   "source": [
    "#### 80. Explain the use of session in Django framework?\n",
    "\n",
    "Django provides a session that lets you store and retrieve data on a per-site-visitor basis. Django abstracts the process of sending and receiving cookies, by placing a session ID cookie on the client side, and storing all the related data on the server side.\n",
    "\n",
    "![Django Framework - Python Interview Questions - Edureka](https://d1jnx9ba8s6j9r.cloudfront.net/blog/wp-content/uploads/2017/06/Django-Framework-Python-Interview-Questions-Edureka.png)\n",
    "\n",
    "So the data itself is not stored client side. This is nice from a security perspective."
   ]
  },
  {
   "cell_type": "markdown",
   "metadata": {},
   "source": [
    "#### 81. List out the inheritance styles in Django.\n",
    "\n",
    "In Django, there are three possible inheritance styles:\n",
    "\n",
    "1. Abstract Base Classes: This style is used when you only want parent’s class to hold information that you don’t want to type out for each child model.\n",
    "\n",
    "2. Multi-table Inheritance: This style is used If you are sub-classing an existing model and need each model to have its own database table.\n",
    "\n",
    "3. Proxy models: You can use this model, If you only want to modify the Python level behavior of the model, without changing the model’s fields."
   ]
  },
  {
   "cell_type": "markdown",
   "metadata": {},
   "source": [
    "## Web Scraping – Python Interview Questions"
   ]
  },
  {
   "cell_type": "markdown",
   "metadata": {},
   "source": [
    "#### 82. How To Save An Image Locally Using Python Whose URL Address I Already Know?\n",
    "\n",
    "We will use the following code to save an image locally from an URL address"
   ]
  },
  {
   "cell_type": "code",
   "execution_count": 7,
   "metadata": {},
   "outputs": [
    {
     "data": {
      "text/plain": [
       "('local-filename.jpg', <http.client.HTTPMessage at 0x7f32a838b5b0>)"
      ]
     },
     "execution_count": 7,
     "metadata": {},
     "output_type": "execute_result"
    }
   ],
   "source": [
    "import urllib.request\n",
    "\n",
    "urllib.request.urlretrieve(\"https://www.google.com/images/branding/googlelogo/2x/googlelogo_color_272x92dp.png\", \"local-filename.jpg\")"
   ]
  },
  {
   "cell_type": "markdown",
   "metadata": {},
   "source": [
    "#### 83. How can you Get the Google cache age of any URL or web page?\n",
    "\n",
    "Use the following URL format:\n",
    "\n",
    "`http://webcache.googleusercontent.com/search?q=cache:URLGOESHERE`\n",
    "\n",
    "Be sure to replace “URLGOESHERE” with the proper web address of the page or site whose cache you want to retrieve and see the time for. For example, to check the Google Webcache age of edureka.co you’d use the following URL:\n",
    "\n",
    "`http://webcache.googleusercontent.com/search?q=cache:edureka.co`"
   ]
  },
  {
   "cell_type": "markdown",
   "metadata": {},
   "source": [
    "#### 84. You are required to scrap data from IMDb top 250 movies page. It should only have fields movie name, year, and rating."
   ]
  },
  {
   "cell_type": "markdown",
   "metadata": {},
   "source": [
    "```python\n",
    "from bs4 import BeautifulSoup\n",
    "\n",
    "import requests\n",
    "import sys\n",
    "\n",
    "url = '<a href=\"http://www.imdb.com/chart/top\">http://www.imdb.com/chart/top</a>'\n",
    "\n",
    "response = requests.get(url)\n",
    "\n",
    "soup = BeautifulSoup(response.text)\n",
    "\n",
    "tr = soup.findChildren(\"tr\")\n",
    "\n",
    "tr = iter(tr)\n",
    "\n",
    "next(tr)\n",
    "\n",
    "for movie in tr:\n",
    "    title = movie.find('td', {'class': 'titleColumn'} ).find('a').contents[0]\n",
    "\n",
    "    year = movie.find('td', {'class': 'titleColumn'} ).find('span', {'class': 'secondaryInfo'}).contents[0]\n",
    "    \n",
    "    rating = movie.find('td', {'class': 'ratingColumn imdbRating'} ).find('strong').contents[0]\n",
    "    \n",
    "    row = title + ' - ' + year + ' ' + ' ' + rating\n",
    "\n",
    "print(row)\n",
    "```"
   ]
  },
  {
   "cell_type": "markdown",
   "metadata": {},
   "source": [
    "### Data Analysis – Python Interview Questions"
   ]
  },
  {
   "cell_type": "markdown",
   "metadata": {},
   "source": [
    "#### 85. What is map function in Python?\n",
    "\n",
    "`map` function executes the function given as the first argument on all the elements of the iterable given as the second argument. If the function given takes in more than 1 arguments, then many iterables are given."
   ]
  },
  {
   "cell_type": "markdown",
   "metadata": {},
   "source": [
    "#### 86. Is python numpy better than lists?\n",
    "\n",
    "We use python numpy array instead of a list because of the below three reasons:\n",
    "\n",
    "1. Less Memory\n",
    "2. Fast\n",
    "3. Convenient"
   ]
  },
  {
   "cell_type": "markdown",
   "metadata": {},
   "source": [
    "#### 87. How to get indices of N maximum values in a NumPy array?\n",
    "\n",
    "We can get the indices of N maximum values in a NumPy array using the below code:"
   ]
  },
  {
   "cell_type": "code",
   "execution_count": 9,
   "metadata": {},
   "outputs": [
    {
     "name": "stdout",
     "output_type": "stream",
     "text": [
      "[4 3 1]\n"
     ]
    }
   ],
   "source": [
    "import numpy as np\n",
    "\n",
    "arr = np.array([1, 3, 2, 4, 5])\n",
    "\n",
    "print(arr.argsort()[-3:][::-1])"
   ]
  },
  {
   "cell_type": "markdown",
   "metadata": {},
   "source": [
    "#### 88. How do you calculate percentiles with Python/ NumPy?\n",
    "\n",
    "We can calculate percentiles with the following code"
   ]
  },
  {
   "cell_type": "code",
   "execution_count": 10,
   "metadata": {},
   "outputs": [
    {
     "name": "stdout",
     "output_type": "stream",
     "text": [
      "3.0\n"
     ]
    }
   ],
   "source": [
    "import numpy as np\n",
    "\n",
    "a = np.array([1,2,3,4,5])\n",
    "\n",
    "p = np.percentile(a, 50) #Returns 50th percentile, e.g. median\n",
    "\n",
    "print(p)"
   ]
  },
  {
   "cell_type": "markdown",
   "metadata": {},
   "source": [
    "#### 89. What is the difference between NumPy and SciPy?\n",
    "\n",
    "1. In an ideal world, NumPy would contain nothing but the array data type and the most basic operations: indexing, sorting, reshaping, basic elementwise functions, et cetera.\n",
    "\n",
    "2. All numerical code would reside in SciPy. However, one of NumPy’s important goals is compatibility, so NumPy tries to retain all features supported by either of its predecessors.\n",
    "\n",
    "3. Thus NumPy contains some linear algebra functions, even though these more properly belong in SciPy. In any case, SciPy contains more fully-featured versions of the linear algebra modules, as well as many other numerical algorithms.\n",
    "\n",
    "4. If you are doing scientific computing with python, you should probably install both NumPy and SciPy. Most new features belong in SciPy rather than NumPy."
   ]
  },
  {
   "cell_type": "markdown",
   "metadata": {},
   "source": [
    "#### 90. How do you make 3D plots/visualizations using NumPy/SciPy?\n",
    "\n",
    "Like 2D plotting, 3D graphics is beyond the scope of NumPy and SciPy, but just as in the 2D case, packages exist that integrate with NumPy. Matplotlib provides basic 3D plotting in the mplot3d subpackage, whereas Mayavi provides a wide range of high-quality 3D visualization features, utilizing the powerful VTK engine."
   ]
  },
  {
   "cell_type": "markdown",
   "metadata": {},
   "source": [
    "## Multiple Choice Questions (MCQ)"
   ]
  },
  {
   "cell_type": "markdown",
   "metadata": {},
   "source": [
    "#### 91. Which of the following statements create a dictionary? (Multiple Correct Answers Possible)\n",
    "\n",
    "a) d = {}\n",
    "\n",
    "b) d = {“john”:40, “peter”:45}\n",
    "\n",
    "c) d = {40:”john”, 45:”peter”}\n",
    "\n",
    "d) d = (40:”john”, 45:”50”)"
   ]
  },
  {
   "cell_type": "markdown",
   "metadata": {},
   "source": [
    "Answer: b, c & d.\n",
    "\n",
    "Dictionaries are created by specifying keys and values."
   ]
  },
  {
   "cell_type": "markdown",
   "metadata": {},
   "source": [
    "#### 92. Which one of these is floor division?\n",
    "\n",
    "a) /\n",
    "\n",
    "b) //\n",
    "\n",
    "c) %\n",
    "\n",
    "d) None of the mentioned"
   ]
  },
  {
   "cell_type": "markdown",
   "metadata": {},
   "source": [
    "Answer: `b) //`\n",
    "\n",
    "When both of the operands are integer then python chops out the fraction part and gives you the round off value, to get the accurate answer use floor division. For ex, `5/2` = `2.5` but both of the operands are integer so answer of this expression in python is 2. To get the 2.5 as the answer, use floor division using `//`. So, `5//2` = `2.5`"
   ]
  },
  {
   "cell_type": "markdown",
   "metadata": {},
   "source": [
    "#### 93. What is the maximum possible length of an identifier?\n",
    "\n",
    "a) 31 characters\n",
    "\n",
    "b) 63 characters\n",
    "\n",
    "c) 79 characters\n",
    "\n",
    "d) None of the above"
   ]
  },
  {
   "cell_type": "markdown",
   "metadata": {},
   "source": [
    "Answer: d) None of the above\n",
    "\n",
    "Identifiers can be of any length."
   ]
  },
  {
   "cell_type": "markdown",
   "metadata": {},
   "source": [
    "#### 94. Why are local variable names beginning with an underscore discouraged?\n",
    "\n",
    "a) they are used to indicate a private variables of a class\n",
    "\n",
    "b) they confuse the interpreter\n",
    "\n",
    "c) they are used to indicate global variables\n",
    "\n",
    "d) they slow down execution"
   ]
  },
  {
   "cell_type": "markdown",
   "metadata": {},
   "source": [
    "Answer: a) they are used to indicate a private variable of a class\n",
    "\n",
    "As Python has no concept of private variables, leading underscores are used to indicate variables that must not be accessed from outside the class."
   ]
  },
  {
   "cell_type": "markdown",
   "metadata": {},
   "source": [
    "#### 95. Which of the following is an invalid statement?\n",
    "\n",
    "a) abc = 1,000,000\n",
    "\n",
    "b) a b c = 1000 2000 3000\n",
    "\n",
    "c) a,b,c = 1000, 2000, 3000\n",
    "\n",
    "d) a_b_c = 1,000,000"
   ]
  },
  {
   "cell_type": "markdown",
   "metadata": {},
   "source": [
    "Answer: b) a b c = 1000 2000 3000\n",
    "\n",
    "Spaces are not allowed in variable names."
   ]
  },
  {
   "cell_type": "markdown",
   "metadata": {},
   "source": [
    "#### 96. What is the output of the following?"
   ]
  },
  {
   "cell_type": "markdown",
   "metadata": {},
   "source": [
    "```python\n",
    "try:\n",
    "    if '1' != 1:\n",
    "        raise \"someError\"\n",
    "    else:\n",
    "        print(\"someError has not occured\")\n",
    "except \"someError\":\n",
    "    print (\"someError has occured\")\n",
    "```"
   ]
  },
  {
   "cell_type": "markdown",
   "metadata": {},
   "source": [
    "a) someError has occured\n",
    "\n",
    "b) someError has not occured\n",
    "\n",
    "c) invalid code\n",
    "\n",
    "d) none of the above"
   ]
  },
  {
   "cell_type": "markdown",
   "metadata": {},
   "source": [
    "Answer: c) invalid code\n",
    "\n",
    "A new exception class must inherit from a BaseException. There is no such inheritance here."
   ]
  },
  {
   "cell_type": "markdown",
   "metadata": {},
   "source": [
    "#### 97. Suppose list1 is [2, 33, 222, 14, 25], What is list1[-1] ?\n",
    "\n",
    "a) Error\n",
    "\n",
    "b) None\n",
    "\n",
    "c) 25\n",
    "\n",
    "d) 2"
   ]
  },
  {
   "cell_type": "markdown",
   "metadata": {},
   "source": [
    "Answer: c) 25\n",
    "\n",
    "The index -1 corresponds to the last index in the list."
   ]
  },
  {
   "cell_type": "markdown",
   "metadata": {},
   "source": [
    "#### 98. To open a file c:scores.txt for writing, we use\n",
    "\n",
    "a) outfile = open(“c:scores.txt”, “r”)\n",
    "\n",
    "b) outfile = open(“c:scores.txt”, “w”)\n",
    "\n",
    "c) outfile = open(file = “c:scores.txt”, “r”)\n",
    "\n",
    "d) outfile = open(file = “c:scores.txt”, “o”)"
   ]
  },
  {
   "cell_type": "markdown",
   "metadata": {},
   "source": [
    "Answer: b) The location contains double slashes ( ) and w is used to indicate that file is being written to."
   ]
  },
  {
   "cell_type": "markdown",
   "metadata": {},
   "source": [
    "#### 99. What is the output of the following?\n",
    "\n",
    "```python\n",
    "\n",
    "f = None\n",
    "\n",
    "for i in range (5):\n",
    "    with open(\"data.txt\", \"w\") as f:\n",
    "        if i > 2:\n",
    "            break\n",
    "\n",
    "print f.closed\n",
    "```\n",
    "\n",
    "a) True\n",
    "\n",
    "b) False\n",
    "\n",
    "c) None\n",
    "\n",
    "d) Error"
   ]
  },
  {
   "cell_type": "markdown",
   "metadata": {},
   "source": [
    "Answer: a) True\n",
    "\n",
    "The WITH statement when used with open file guarantees that the file object is closed when the with block exits."
   ]
  },
  {
   "cell_type": "markdown",
   "metadata": {},
   "source": [
    "#### 100. When will the else part of try-except-else be executed?\n",
    "\n",
    "a) always\n",
    "\n",
    "b) when an exception occurs\n",
    "\n",
    "c) when no exception occurs\n",
    "\n",
    "d) when an exception occurs into except block"
   ]
  },
  {
   "cell_type": "markdown",
   "metadata": {},
   "source": [
    "Answer: c) when no exception occurs"
   ]
  }
 ],
 "metadata": {
  "kernelspec": {
   "display_name": "Python 3",
   "language": "python",
   "name": "python3"
  },
  "language_info": {
   "codemirror_mode": {
    "name": "ipython",
    "version": 3
   },
   "file_extension": ".py",
   "mimetype": "text/x-python",
   "name": "python",
   "nbconvert_exporter": "python",
   "pygments_lexer": "ipython3",
   "version": "3.8.5"
  }
 },
 "nbformat": 4,
 "nbformat_minor": 4
}
